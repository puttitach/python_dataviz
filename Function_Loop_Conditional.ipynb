{
 "cells": [
  {
   "cell_type": "markdown",
   "metadata": {},
   "source": [
    "## Function\n",
    "### print ชื่อ XXX นามสกุล YYY รหัส ZZZ\n",
    "### print เกรด วิชา stat >>> AAA"
   ]
  },
  {
   "cell_type": "code",
   "execution_count": 2,
   "metadata": {},
   "outputs": [
    {
     "name": "stdout",
     "output_type": "stream",
     "text": [
      " ชื่อ พุธิตา นามสกุล เจือจันทร์ รหัส 603021879-8\n"
     ]
    }
   ],
   "source": [
    "a = ' ชื่อ พุธิตา นามสกุล เจือจันทร์ รหัส 603021879-8'\n",
    "print (a)"
   ]
  },
  {
   "cell_type": "markdown",
   "metadata": {},
   "source": [
    "#### ถ้าจะใส่หลายๆคนแบบไม่ต้องแก้ ใช้ปีกกาล้อมรอบตัวแปรที่ต้องการใส่"
   ]
  },
  {
   "cell_type": "code",
   "execution_count": 10,
   "metadata": {},
   "outputs": [
    {
     "name": "stdout",
     "output_type": "stream",
     "text": [
      " ชื่อ พุธิตา นามสกุล เจือจันทร์ รหัส 603021879-8\n"
     ]
    }
   ],
   "source": [
    "name = 'พุธิตา'\n",
    "surname = 'เจือจันทร์'\n",
    "ID = '603021879-8'\n",
    "b = f' ชื่อ {name} นามสกุล {surname} รหัส {ID}'\n",
    "print(b)"
   ]
  },
  {
   "cell_type": "markdown",
   "metadata": {},
   "source": [
    "### function template\n",
    "```python \n",
    "def functoin_name(x) :\n",
    "    do_someting\n",
    "    return y\n",
    "\n",
    "def functoin_name(Input) :\n",
    "    do_someting\n",
    "    return Output\n",
    "```"
   ]
  },
  {
   "cell_type": "markdown",
   "metadata": {},
   "source": [
    "### Normaol function"
   ]
  },
  {
   "cell_type": "code",
   "execution_count": 13,
   "metadata": {},
   "outputs": [],
   "source": [
    "def print_linel1(name1,surname1,ID1) :\n",
    "  st = f'ชื่อ {name1} นามสกุล {surname1} รหัส {ID1}'\n",
    "  return st"
   ]
  },
  {
   "cell_type": "code",
   "execution_count": 14,
   "metadata": {},
   "outputs": [
    {
     "name": "stdout",
     "output_type": "stream",
     "text": [
      "ชื่อ พุธิตา นามสกุล เจือจันทร์ รหัส 603021879-8\n"
     ]
    }
   ],
   "source": [
    "print(print_linel1('พุธิตา','เจือจันทร์','603021879-8'))"
   ]
  },
  {
   "cell_type": "markdown",
   "metadata": {},
   "source": [
    "### Function Without Output"
   ]
  },
  {
   "cell_type": "code",
   "execution_count": 15,
   "metadata": {},
   "outputs": [],
   "source": [
    "def print_2lines(name1,surname1,ID1,grade) :\n",
    "  st = f'ชื่อ {name1} นามสกุล {surname1} รหัส {ID1}'\n",
    "  print (st)\n",
    "  st2 = f'เกรดวิชา stat1 >>> {grade}'\n",
    "  print (st2)"
   ]
  },
  {
   "cell_type": "code",
   "execution_count": 17,
   "metadata": {},
   "outputs": [
    {
     "name": "stdout",
     "output_type": "stream",
     "text": [
      "ชื่อ พุธิตา นามสกุล เจือจันทร์ รหัส 603021879-8\n",
      "เกรดวิชา stat1 >>> A\n",
      "None\n"
     ]
    }
   ],
   "source": [
    "print(print_2lines('พุธิตา','เจือจันทร์','603021879-8','A'))"
   ]
  },
  {
   "cell_type": "code",
   "execution_count": 18,
   "metadata": {},
   "outputs": [],
   "source": [
    "def print_2lines(name1,surname1,ID1,grade) :\n",
    "  st = f'ชื่อ {name1} นามสกุล {surname1} รหัส {ID1}'\n",
    "  print (st)\n",
    "  st2 = f'เกรดวิชา stat1 >>> {grade}'\n",
    "  print (st2)"
   ]
  },
  {
   "cell_type": "code",
   "execution_count": 20,
   "metadata": {},
   "outputs": [
    {
     "name": "stdout",
     "output_type": "stream",
     "text": [
      "ชื่อ พุธิตา นามสกุล เจือจันทร์ รหัส 603021879-8\n",
      "เกรดวิชา stat1 >>> A\n",
      "None\n",
      "ชื่อ วิภาวดี นามสกุล แก้วดวงดี รหัส 603021112-8\n",
      "เกรดวิชา stat1 >>> A\n",
      "None\n",
      "ชื่อ กรรณิการ์ นามสกุล วิรัชวา รหัส 603020904-0\n",
      "เกรดวิชา stat1 >>> A\n",
      "None\n",
      "ชื่อ ปิยาพร นามสกุล อุตรนคร รหัส 603021873-0\n",
      "เกรดวิชา stat1 >>> A\n",
      "None\n"
     ]
    }
   ],
   "source": [
    "print(print_2lines('พุธิตา','เจือจันทร์','603021879-8','A'))\n",
    "print(print_2lines('วิภาวดี','แก้วดวงดี','603021112-8','A'))\n",
    "print(print_2lines('กรรณิการ์','วิรัชวา','603020904-0','A'))\n",
    "print(print_2lines('ปิยาพร','อุตรนคร','603021873-0','A'))"
   ]
  },
  {
   "cell_type": "markdown",
   "metadata": {},
   "source": [
    "### Function Without Input (ไม่มีอินพุท)"
   ]
  },
  {
   "cell_type": "code",
   "execution_count": 21,
   "metadata": {},
   "outputs": [],
   "source": [
    "def two_x_three() :\n",
    "  x = 2*3\n",
    "  return x"
   ]
  },
  {
   "cell_type": "code",
   "execution_count": 22,
   "metadata": {},
   "outputs": [
    {
     "data": {
      "text/plain": [
       "6"
      ]
     },
     "execution_count": 22,
     "metadata": {},
     "output_type": "execute_result"
    }
   ],
   "source": [
    "two_x_three()"
   ]
  },
  {
   "cell_type": "markdown",
   "metadata": {},
   "source": [
    "### Function with default argument (ค่าที่ไม่ได้เปลี่ยนแปลง) (ตัวไหนที่ไม่ได้ใส่ค่าก็ตั้งค่าให้มัน โดยแทนตังที่เราตั้งค่าไป)"
   ]
  },
  {
   "cell_type": "code",
   "execution_count": 23,
   "metadata": {},
   "outputs": [],
   "source": [
    "def print_2lines_default(name1,surname1,ID1,grade= 'F') :\n",
    "  st = f'ชื่อ {name1} นามสกุล {surname1} รหัส {ID1}'\n",
    "  print (st)\n",
    "  st2 = f'เกรดวิชา stat1 >>> {grade}'\n",
    "  print (st2)"
   ]
  },
  {
   "cell_type": "code",
   "execution_count": 25,
   "metadata": {},
   "outputs": [
    {
     "name": "stdout",
     "output_type": "stream",
     "text": [
      "ชื่อ พุธิตา นามสกุล เจือจันทร์ รหัส 603021879-8\n",
      "เกรดวิชา stat1 >>> F\n",
      "None\n"
     ]
    }
   ],
   "source": [
    "print(print_2lines_default('พุธิตา','เจือจันทร์','603021879-8'))"
   ]
  },
  {
   "cell_type": "markdown",
   "metadata": {},
   "source": [
    "### สามารถเปลี่ยนลำดับได้ ถ้ารู้ว่าอินพุทอยู่ไหน) เช่น ตั้งค่าหรือกำหนดค่าไว้ตรงไหน"
   ]
  },
  {
   "cell_type": "code",
   "execution_count": 26,
   "metadata": {},
   "outputs": [
    {
     "name": "stdout",
     "output_type": "stream",
     "text": [
      "ชื่อ เจือจันทร์ นามสกุล พุธิตา รหัส 603021879-8\n",
      "เกรดวิชา stat1 >>> F\n",
      "None\n"
     ]
    }
   ],
   "source": [
    "print(print_2lines_default(surname1 = 'พุธิตา', name1 = 'เจือจันทร์', ID1 = '603021879-8'))"
   ]
  },
  {
   "cell_type": "markdown",
   "metadata": {},
   "source": [
    "# Loop (วนซ้ำ)"
   ]
  },
  {
   "cell_type": "markdown",
   "metadata": {},
   "source": [
    "```Python\n",
    "for each_member in listA:\n",
    "    do someting\n",
    "   ``` "
   ]
  },
  {
   "cell_type": "code",
   "execution_count": 27,
   "metadata": {},
   "outputs": [
    {
     "name": "stdout",
     "output_type": "stream",
     "text": [
      "1\n",
      "2\n",
      "3\n"
     ]
    }
   ],
   "source": [
    "for i in [1,2,3] :\n",
    "    print(i)"
   ]
  },
  {
   "cell_type": "code",
   "execution_count": 30,
   "metadata": {},
   "outputs": [
    {
     "name": "stdout",
     "output_type": "stream",
     "text": [
      "P -> /\n",
      "  \n",
      "u -> /\n",
      "  \n",
      "t -> /\n",
      "  \n",
      "t -> /\n",
      "  \n",
      "i -> /\n",
      "  \n",
      "t -> /\n",
      "  \n",
      "a -> /\n",
      "  \n"
     ]
    }
   ],
   "source": [
    "for i in 'Puttita' :\n",
    "    print(f'{i} -> /')\n",
    "    print('  ')"
   ]
  },
  {
   "cell_type": "markdown",
   "metadata": {},
   "source": [
    "#### 1.สร้าง list ชื่อเพื่อนที่อยู่ในแถวยาวเดียวกัน\n",
    "#### 2.สร้าง function print ประโยคว่า ชื่อ XXX ความรู้สึกYYY เพื่อนุกคนในแถวยาวZZZ\n",
    "#### 3.วนลูปเรียก function"
   ]
  },
  {
   "cell_type": "code",
   "execution_count": 31,
   "metadata": {},
   "outputs": [
    {
     "data": {
      "text/plain": [
       "('ปิยาพร', 'กรรณิการ์', 'วิภาวดี', 'พรภิรมย์', 'ทัชมินทร์')"
      ]
     },
     "execution_count": 31,
     "metadata": {},
     "output_type": "execute_result"
    }
   ],
   "source": [
    "list_friend = ('ปิยาพร','กรรณิการ์','วิภาวดี','พรภิรมย์','ทัชมินทร์')\n",
    "list_friend "
   ]
  },
  {
   "cell_type": "code",
   "execution_count": 84,
   "metadata": {},
   "outputs": [],
   "source": [
    "def print_name(nameF,feeling= 'love',name= 'dew'):\n",
    "  st = f'ชื่อ {name} ความรู้สึก {feeling} เพื่อน {friend}'\n",
    "  print (st)"
   ]
  },
  {
   "cell_type": "code",
   "execution_count": 85,
   "metadata": {},
   "outputs": [
    {
     "ename": "SyntaxError",
     "evalue": "invalid syntax (<ipython-input-85-e1312d3ddbf3>, line 1)",
     "output_type": "error",
     "traceback": [
      "\u001b[1;36m  File \u001b[1;32m\"<ipython-input-85-e1312d3ddbf3>\"\u001b[1;36m, line \u001b[1;32m1\u001b[0m\n\u001b[1;33m    print(print_name(name = , feeling = , nameF = '603021879-8'))\u001b[0m\n\u001b[1;37m                            ^\u001b[0m\n\u001b[1;31mSyntaxError\u001b[0m\u001b[1;31m:\u001b[0m invalid syntax\n"
     ]
    }
   ],
   "source": [
    "print(print_name(name = , feeling = , nameF = '603021879-8'))"
   ]
  },
  {
   "cell_type": "code",
   "execution_count": null,
   "metadata": {},
   "outputs": [],
   "source": []
  },
  {
   "cell_type": "code",
   "execution_count": 55,
   "metadata": {},
   "outputs": [
    {
     "data": {
      "text/plain": [
       "['kwan', 'i', 'earn', 'bird', 'min']"
      ]
     },
     "execution_count": 55,
     "metadata": {},
     "output_type": "execute_result"
    }
   ],
   "source": [
    "nameF_list = ['kwan','i','earn','bird','min']\n",
    "nameF_list"
   ]
  },
  {
   "cell_type": "code",
   "execution_count": 116,
   "metadata": {},
   "outputs": [],
   "source": [
    "def print_feeling(I,feeling,friend) :\n",
    "    print(f'{I} {feeling} {friend}')"
   ]
  },
  {
   "cell_type": "code",
   "execution_count": 76,
   "metadata": {},
   "outputs": [
    {
     "name": "stdout",
     "output_type": "stream",
     "text": [
      "dew love kwan\n"
     ]
    }
   ],
   "source": [
    "print_feeling('dew','love','kwan')"
   ]
  },
  {
   "cell_type": "code",
   "execution_count": 77,
   "metadata": {},
   "outputs": [
    {
     "name": "stdout",
     "output_type": "stream",
     "text": [
      "dew love kwan\n",
      "dew love i\n",
      "dew love earn\n",
      "dew love bird\n",
      "dew love min\n"
     ]
    }
   ],
   "source": [
    "for f in nameF_list:\n",
    "    print_feeling('dew','love',f)"
   ]
  },
  {
   "cell_type": "markdown",
   "metadata": {},
   "source": [
    "#### loop in function (สร้างลูปเข้าไปในfunctionเลย)"
   ]
  },
  {
   "cell_type": "code",
   "execution_count": 117,
   "metadata": {},
   "outputs": [],
   "source": [
    "def print_feelings(I,feeling,friends):\n",
    "    for friend in friends :\n",
    "         print(f'{I} {feeling} {friend}')"
   ]
  },
  {
   "cell_type": "code",
   "execution_count": 119,
   "metadata": {},
   "outputs": [
    {
     "name": "stdout",
     "output_type": "stream",
     "text": [
      "dew love kwan\n",
      "dew love i\n",
      "dew love earn\n",
      "dew love bird\n",
      "dew love min\n"
     ]
    }
   ],
   "source": [
    "print_feelings('dew','love', nameF_list)"
   ]
  },
  {
   "cell_type": "markdown",
   "metadata": {},
   "source": [
    "### loop in loop สามารถใช้ for loop ซ้อนกันได้"
   ]
  },
  {
   "cell_type": "code",
   "execution_count": 120,
   "metadata": {},
   "outputs": [
    {
     "name": "stdout",
     "output_type": "stream",
     "text": [
      "kwan love kwan\n",
      "kwan love i\n",
      "kwan love earn\n",
      "kwan love bird\n",
      "kwan love min\n",
      "i love kwan\n",
      "i love i\n",
      "i love earn\n",
      "i love bird\n",
      "i love min\n",
      "earn love kwan\n",
      "earn love i\n",
      "earn love earn\n",
      "earn love bird\n",
      "earn love min\n",
      "bird love kwan\n",
      "bird love i\n",
      "bird love earn\n",
      "bird love bird\n",
      "bird love min\n",
      "min love kwan\n",
      "min love i\n",
      "min love earn\n",
      "min love bird\n",
      "min love min\n"
     ]
    }
   ],
   "source": [
    "for name1 in nameF_list:\n",
    "    for name2 in nameF_list :\n",
    "        print_feeling(name1,'love',name2)"
   ]
  },
  {
   "cell_type": "code",
   "execution_count": null,
   "metadata": {},
   "outputs": [],
   "source": []
  },
  {
   "cell_type": "markdown",
   "metadata": {},
   "source": [
    "### loop in dict"
   ]
  },
  {
   "cell_type": "code",
   "execution_count": 90,
   "metadata": {},
   "outputs": [],
   "source": [
    "name_grade = { 'พุธิตา' : 'B', 'กรรณิการ์' : 'C', 'วิภาวดี' : 'A','ธนพง' : 'F' }"
   ]
  },
  {
   "cell_type": "code",
   "execution_count": 91,
   "metadata": {},
   "outputs": [
    {
     "data": {
      "text/plain": [
       "'F'"
      ]
     },
     "execution_count": 91,
     "metadata": {},
     "output_type": "execute_result"
    }
   ],
   "source": [
    "name_grade['ธนพง']"
   ]
  },
  {
   "cell_type": "code",
   "execution_count": 92,
   "metadata": {},
   "outputs": [
    {
     "data": {
      "text/plain": [
       "dict_keys(['พุธิตา', 'กรรณิการ์', 'วิภาวดี', 'ธนพง'])"
      ]
     },
     "execution_count": 92,
     "metadata": {},
     "output_type": "execute_result"
    }
   ],
   "source": [
    "name_grade.keys()"
   ]
  },
  {
   "cell_type": "code",
   "execution_count": 93,
   "metadata": {},
   "outputs": [
    {
     "name": "stdout",
     "output_type": "stream",
     "text": [
      "พุธิตา ได้เกรด B\n",
      "กรรณิการ์ ได้เกรด C\n",
      "วิภาวดี ได้เกรด A\n",
      "ธนพง ได้เกรด F\n"
     ]
    }
   ],
   "source": [
    "for i in name_grade.keys():\n",
    "    print(f'{i} ได้เกรด {name_grade[i]}')"
   ]
  },
  {
   "cell_type": "markdown",
   "metadata": {},
   "source": [
    "## Conditional"
   ]
  },
  {
   "cell_type": "markdown",
   "metadata": {},
   "source": [
    "```Python\n",
    "if condition :\n",
    "    do something\n",
    "elif condition2:\n",
    "    do another thing\n",
    "else :\n",
    "    do ...\n",
    "    ```\n",
    "    "
   ]
  },
  {
   "cell_type": "code",
   "execution_count": 123,
   "metadata": {},
   "outputs": [
    {
     "name": "stdout",
     "output_type": "stream",
     "text": [
      "kwan love i\n",
      "kwan love earn\n",
      "kwan love bird\n",
      "kwan love min\n",
      "i love kwan\n",
      "i love earn\n",
      "i love bird\n",
      "i love min\n",
      "earn love kwan\n",
      "earn love i\n",
      "earn love bird\n",
      "earn love min\n",
      "bird love kwan\n",
      "bird love i\n",
      "bird love earn\n",
      "bird love min\n",
      "min love kwan\n",
      "min love i\n",
      "min love earn\n",
      "min love bird\n"
     ]
    }
   ],
   "source": [
    "for name1 in nameF_list:\n",
    "    for name2 in nameF_list:\n",
    "        if name1 != name2:\n",
    "            print_feeling(name1,'love',name2)"
   ]
  },
  {
   "cell_type": "code",
   "execution_count": 122,
   "metadata": {},
   "outputs": [
    {
     "data": {
      "text/plain": [
       "['kwan', 'i', 'earn', 'bird', 'min']"
      ]
     },
     "execution_count": 122,
     "metadata": {},
     "output_type": "execute_result"
    }
   ],
   "source": [
    "nameF_list"
   ]
  },
  {
   "cell_type": "markdown",
   "metadata": {},
   "source": [
    "## EX"
   ]
  },
  {
   "cell_type": "code",
   "execution_count": 124,
   "metadata": {},
   "outputs": [
    {
     "name": "stdout",
     "output_type": "stream",
     "text": [
      "Yes\n"
     ]
    }
   ],
   "source": [
    "if True:\n",
    "    print('Yes')"
   ]
  },
  {
   "cell_type": "code",
   "execution_count": 126,
   "metadata": {},
   "outputs": [
    {
     "name": "stdout",
     "output_type": "stream",
     "text": [
      "No\n"
     ]
    }
   ],
   "source": [
    "if False:\n",
    "    print('No')\n",
    "else:\n",
    "    print('No')"
   ]
  },
  {
   "cell_type": "code",
   "execution_count": 127,
   "metadata": {},
   "outputs": [
    {
     "name": "stdout",
     "output_type": "stream",
     "text": [
      "1=1\n"
     ]
    }
   ],
   "source": [
    "if 1 == 1:\n",
    "    print('1=1')"
   ]
  },
  {
   "cell_type": "markdown",
   "metadata": {},
   "source": [
    "### เครื่องหมายที่ใช้กับ condition\n",
    "#### == เช็คว่าค่าหน้ากับค่าหลังเท่ากันหรือไม่ ตอบ T / F\n",
    "#### != ไม่เท่ากับ ถ้าไม่เท่า ตอบ T ถ้าเท่า F\n",
    "#### >= เช็คว่าตัวข้างหน้ามากกว่าหรือเท่ากับตัวข้างหลังหรือเปล่า ถ้ามากกว่าตอบ T ถ้าน้อยว่าตอบ F\n",
    "#### <= เช็คว่าตัวข้างหน้าน้อยกว่าหรือเท่ากับตัวข้างหลังหรือเปล่า ถ้าน้อยกว่าตอบ T ถ้ามากกว่าตอบ F\n",
    "### <\n",
    "### >"
   ]
  },
  {
   "cell_type": "markdown",
   "metadata": {},
   "source": [
    "#### HW เขียนฟังก์ชั่นตัดเกรด โดยที่ input เป็นคะแนน(0-100) output เป็นเกรด(F-A)\n",
    "### input = [1,50,65,101,-5,49]"
   ]
  },
  {
   "cell_type": "code",
   "execution_count": 15,
   "metadata": {},
   "outputs": [],
   "source": [
    "def Grade(S):\n",
    "    if 79< S < 100:\n",
    "        print(f'{S} ได้เกรด A')\n",
    "    elif 75<=S<80 :\n",
    "        print(f'{S} ได้เกรด B+')\n",
    "    elif 70<=S<75:\n",
    "        print(f'{S} ได้เกรด B')      \n",
    "    elif 65<=S<70:\n",
    "        print(f'{S} ได้เกรด C+')\n",
    "    elif 60<=S<65:\n",
    "        print(f'{S} ได้เกรด C') \n",
    "    elif 55<=S<60:\n",
    "        print(f'{S} ได้เกรด D+')\n",
    "    elif 50<=S<55:\n",
    "        print(f'{S} ได้เกรด D')       \n",
    "    elif S > 100:\n",
    "        print(f'{S} ได้เกรด ผิดพลาด')       \n",
    "    elif S < 0 :\n",
    "        print(f'{S} ได้เกรด ผิดพลาด')\n",
    "    else:\n",
    "        print(f'{S} ได้เกรด F')"
   ]
  },
  {
   "cell_type": "code",
   "execution_count": 16,
   "metadata": {},
   "outputs": [
    {
     "name": "stdout",
     "output_type": "stream",
     "text": [
      "1 ได้เกรด F\n"
     ]
    }
   ],
   "source": [
    "Grade(1)"
   ]
  },
  {
   "cell_type": "code",
   "execution_count": 17,
   "metadata": {},
   "outputs": [
    {
     "name": "stdout",
     "output_type": "stream",
     "text": [
      "50 ได้เกรด D\n"
     ]
    }
   ],
   "source": [
    "Grade(50)"
   ]
  },
  {
   "cell_type": "code",
   "execution_count": 18,
   "metadata": {},
   "outputs": [
    {
     "name": "stdout",
     "output_type": "stream",
     "text": [
      "65 ได้เกรด C+\n"
     ]
    }
   ],
   "source": [
    "Grade(65)"
   ]
  },
  {
   "cell_type": "code",
   "execution_count": 19,
   "metadata": {},
   "outputs": [
    {
     "name": "stdout",
     "output_type": "stream",
     "text": [
      "101 ได้เกรด ผิดพลาด\n"
     ]
    }
   ],
   "source": [
    "Grade(101)"
   ]
  },
  {
   "cell_type": "code",
   "execution_count": 21,
   "metadata": {},
   "outputs": [
    {
     "name": "stdout",
     "output_type": "stream",
     "text": [
      "-5 ได้เกรด ผิดพลาด\n"
     ]
    }
   ],
   "source": [
    "Grade(-5)"
   ]
  },
  {
   "cell_type": "code",
   "execution_count": 22,
   "metadata": {},
   "outputs": [
    {
     "name": "stdout",
     "output_type": "stream",
     "text": [
      "49 ได้เกรด F\n"
     ]
    }
   ],
   "source": [
    "Grade(49)"
   ]
  },
  {
   "cell_type": "code",
   "execution_count": null,
   "metadata": {},
   "outputs": [],
   "source": []
  }
 ],
 "metadata": {
  "kernelspec": {
   "display_name": "Python 3",
   "language": "python",
   "name": "python3"
  },
  "language_info": {
   "codemirror_mode": {
    "name": "ipython",
    "version": 3
   },
   "file_extension": ".py",
   "mimetype": "text/x-python",
   "name": "python",
   "nbconvert_exporter": "python",
   "pygments_lexer": "ipython3",
   "version": "3.7.3"
  }
 },
 "nbformat": 4,
 "nbformat_minor": 2
}
